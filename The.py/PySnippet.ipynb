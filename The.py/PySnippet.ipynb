{
 "cells": [
  {
   "cell_type": "code",
   "execution_count": 5,
   "metadata": {},
   "outputs": [
    {
     "name": "stdout",
     "output_type": "stream",
     "text": [
      "10\n",
      "<__main__.MyClass object at 0x7f2e08dee9e8>\n",
      "The value is 10\n"
     ]
    }
   ],
   "source": [
    "class MyClass:\n",
    "    def __init__(self, value):\n",
    "#         print(self)\n",
    "        self.value = value\n",
    "        print(self.value)\n",
    "\n",
    "    def display_value(self):\n",
    "        print(self)\n",
    "        # self refers to an instance of the MyClass object \n",
    "        # located at a specific memory address.\n",
    "        return f\"The value is {self.value}\"\n",
    "\n",
    "obj = MyClass(10)\n",
    "print(obj.display_value())"
   ]
  },
  {
   "cell_type": "code",
   "execution_count": null,
   "metadata": {},
   "outputs": [],
   "source": []
  }
 ],
 "metadata": {
  "kernelspec": {
   "display_name": "Python 3",
   "language": "python",
   "name": "python3"
  },
  "language_info": {
   "codemirror_mode": {
    "name": "ipython",
    "version": 3
   },
   "file_extension": ".py",
   "mimetype": "text/x-python",
   "name": "python",
   "nbconvert_exporter": "python",
   "pygments_lexer": "ipython3",
   "version": "3.7.3"
  }
 },
 "nbformat": 4,
 "nbformat_minor": 2
}
