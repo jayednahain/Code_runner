{
 "cells": [
  {
   "cell_type": "code",
   "execution_count": 7,
   "id": "f4788207-c156-4675-b9ad-06053404941c",
   "metadata": {},
   "outputs": [
    {
     "name": "stdout",
     "output_type": "stream",
     "text": [
      "canine\n"
     ]
    }
   ],
   "source": [
    "class Dog:\n",
    "    kind = 'canine'         \n",
    "    def __init__(self, name):\n",
    "        self.name = name \n",
    "d= Dog(5)\n",
    "print(d.kind)"
   ]
  },
  {
   "cell_type": "code",
   "execution_count": 1,
   "id": "ff1faf49-b4fe-46a9-bdb2-91ca78be3fae",
   "metadata": {},
   "outputs": [
    {
     "name": "stdout",
     "output_type": "stream",
     "text": [
      "-- test1\n",
      "<__main__.Computer object at 0x7fe964336770>\n"
     ]
    }
   ],
   "source": [
    "class Computer:\n",
    "    def __init__(self,valueOne,valueTwo):\n",
    "        # self.processsor = valueOne\n",
    "        # self.ram = valueTwo\n",
    "        print(\"--\",valueOne)\n",
    "\n",
    "com1 = Computer(\"test1\",\"test2\")\n",
    "print(com1)"
   ]
  },
  {
   "cell_type": "code",
   "execution_count": 1,
   "id": "8a1509b3-01df-4a20-9a8e-eccae9b239e5",
   "metadata": {},
   "outputs": [],
   "source": [
    "class Country:\n",
    "    myCounter = \"Bangladesh\" \n",
    "    def __init__(self,name):\n",
    "        self.name = name\n",
    "\n"
   ]
  },
  {
   "cell_type": "code",
   "execution_count": 21,
   "id": "4f20f359-f102-4eed-a299-2fe31df7d97e",
   "metadata": {},
   "outputs": [],
   "source": [
    "class TEST:\n",
    "    pass"
   ]
  },
  {
   "cell_type": "code",
   "execution_count": 27,
   "id": "aa8e85f6-b4d4-4842-a7e4-81adeef73661",
   "metadata": {},
   "outputs": [],
   "source": [
    "TEST.name =\"nahian\"\n",
    "obj = TEST()\n",
    "obj.name =\"nahian\""
   ]
  },
  {
   "cell_type": "code",
   "execution_count": 25,
   "id": "a2ba56cb-d6ae-4eec-8e34-09554d739321",
   "metadata": {},
   "outputs": [
    {
     "data": {
      "text/plain": [
       "'nahian'"
      ]
     },
     "execution_count": 25,
     "metadata": {},
     "output_type": "execute_result"
    }
   ],
   "source": [
    "TEST.name"
   ]
  },
  {
   "cell_type": "code",
   "execution_count": 48,
   "id": "42aab3e6-6b01-4f4a-a15f-976e4ca1d886",
   "metadata": {},
   "outputs": [
    {
     "name": "stdout",
     "output_type": "stream",
     "text": [
      "jayed nahian\n"
     ]
    }
   ],
   "source": [
    "#(Understand self better by building a class in Python yourself) \n",
    "#link: https://www.youtube.com/watch?v=TTFo4KLm-2I\n",
    "\n",
    "def createEmployee(firstName,lastName,getFullName):\n",
    "    d = {\"firstName\":firstName,\"lastName\":lastName,\"getFullName\":getFullName}\n",
    "    return d\n",
    "    \n",
    "def getFullName(object):\n",
    "    return f'{object[\"firstName\"]} {object[\"lastName\"]}'\n",
    "\n",
    "e = createEmployee(firstName=\"jayed\",lastName=\"nahian\",getFullName=getFullName)\n",
    "print(e[\"getFullName\"](e))\n"
   ]
  },
  {
   "cell_type": "code",
   "execution_count": 30,
   "id": "68b291fb-c426-4592-bae0-7b7892eafc71",
   "metadata": {},
   "outputs": [
    {
     "name": "stdout",
     "output_type": "stream",
     "text": [
      "nahian\n",
      "{'firstName': 'jayed', 'lastName': 'nahian'}\n"
     ]
    }
   ],
   "source": [
    "e = createEmployee(\"jayed\",\"nahian\")\n",
    "print(e[\"lastName\"])\n",
    "print()"
   ]
  },
  {
   "cell_type": "code",
   "execution_count": 27,
   "id": "df122102-c066-4569-908c-298b63ced265",
   "metadata": {},
   "outputs": [],
   "source": [
    "def getFullName(object):\n",
    "    return f'{object[\"firstName\"]} {object[\"lastName\"]}'"
   ]
  },
  {
   "cell_type": "code",
   "execution_count": 28,
   "id": "aeae1c7e-735d-41d5-bc30-083426c03d75",
   "metadata": {},
   "outputs": [
    {
     "data": {
      "text/plain": [
       "'jayed nahian'"
      ]
     },
     "execution_count": 28,
     "metadata": {},
     "output_type": "execute_result"
    }
   ],
   "source": [
    "getFullName({\"firstName\":\"jayed\",\"lastName\":\"nahian\"})"
   ]
  },
  {
   "cell_type": "code",
   "execution_count": 34,
   "id": "e9b27b7b-69ff-4168-85a7-a199e7279ffb",
   "metadata": {},
   "outputs": [
    {
     "data": {
      "text/plain": [
       "'jayed nahian'"
      ]
     },
     "execution_count": 34,
     "metadata": {},
     "output_type": "execute_result"
    }
   ],
   "source": [
    "getFullName(e)"
   ]
  },
  {
   "cell_type": "code",
   "execution_count": null,
   "id": "177573f0-dc6c-45b1-b011-56f86c79f470",
   "metadata": {},
   "outputs": [],
   "source": []
  }
 ],
 "metadata": {
  "kernelspec": {
   "display_name": "Python 3 (ipykernel)",
   "language": "python",
   "name": "python3"
  },
  "language_info": {
   "codemirror_mode": {
    "name": "ipython",
    "version": 3
   },
   "file_extension": ".py",
   "mimetype": "text/x-python",
   "name": "python",
   "nbconvert_exporter": "python",
   "pygments_lexer": "ipython3",
   "version": "3.10.12"
  }
 },
 "nbformat": 4,
 "nbformat_minor": 5
}
